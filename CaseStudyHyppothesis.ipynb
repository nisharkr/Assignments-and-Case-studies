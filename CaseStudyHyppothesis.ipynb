{
 "cells": [
  {
   "cell_type": "code",
   "execution_count": null,
   "id": "05900459",
   "metadata": {},
   "outputs": [],
   "source": [
    "Case Study on Testing of Hypothesis\n",
    "\n",
    "A company started to invest in digital marketing as a new way of their product\n",
    "promotions.For that they collected data and decided to carry out a study on it.\n",
    "● The company wishes to clarify whether there is any increase in sales after\n",
    "stepping into digital marketing.\n",
    "● The company needs to check whether there is any dependency between the\n",
    "features “Region” and “Manager”."
   ]
  },
  {
   "cell_type": "code",
   "execution_count": 9,
   "id": "1609f929",
   "metadata": {},
   "outputs": [],
   "source": [
    "import pandas as pd\n",
    "import scipy.stats as stats\n",
    "from scipy.stats import chi2_contingency\n",
    "import seaborn as sns\n",
    "import matplotlib.pyplot as plt\n",
    "import numpy as np\n",
    "from sklearn.feature_selection import chi2"
   ]
  },
  {
   "cell_type": "code",
   "execution_count": 3,
   "id": "e1e0e009",
   "metadata": {},
   "outputs": [
    {
     "data": {
      "text/html": [
       "<div>\n",
       "<style scoped>\n",
       "    .dataframe tbody tr th:only-of-type {\n",
       "        vertical-align: middle;\n",
       "    }\n",
       "\n",
       "    .dataframe tbody tr th {\n",
       "        vertical-align: top;\n",
       "    }\n",
       "\n",
       "    .dataframe thead th {\n",
       "        text-align: right;\n",
       "    }\n",
       "</style>\n",
       "<table border=\"1\" class=\"dataframe\">\n",
       "  <thead>\n",
       "    <tr style=\"text-align: right;\">\n",
       "      <th></th>\n",
       "      <th>Sales_before_digital_add(in $)</th>\n",
       "      <th>Sales_After_digital_add(in $)</th>\n",
       "    </tr>\n",
       "  </thead>\n",
       "  <tbody>\n",
       "    <tr>\n",
       "      <th>count</th>\n",
       "      <td>22.000000</td>\n",
       "      <td>22.000000</td>\n",
       "    </tr>\n",
       "    <tr>\n",
       "      <th>mean</th>\n",
       "      <td>149239.954545</td>\n",
       "      <td>231123.727273</td>\n",
       "    </tr>\n",
       "    <tr>\n",
       "      <th>std</th>\n",
       "      <td>14844.042921</td>\n",
       "      <td>25556.777061</td>\n",
       "    </tr>\n",
       "    <tr>\n",
       "      <th>min</th>\n",
       "      <td>130263.000000</td>\n",
       "      <td>187305.000000</td>\n",
       "    </tr>\n",
       "    <tr>\n",
       "      <th>25%</th>\n",
       "      <td>138087.750000</td>\n",
       "      <td>214960.750000</td>\n",
       "    </tr>\n",
       "    <tr>\n",
       "      <th>50%</th>\n",
       "      <td>147444.000000</td>\n",
       "      <td>229986.500000</td>\n",
       "    </tr>\n",
       "    <tr>\n",
       "      <th>75%</th>\n",
       "      <td>157627.500000</td>\n",
       "      <td>250909.000000</td>\n",
       "    </tr>\n",
       "    <tr>\n",
       "      <th>max</th>\n",
       "      <td>178939.000000</td>\n",
       "      <td>276279.000000</td>\n",
       "    </tr>\n",
       "  </tbody>\n",
       "</table>\n",
       "</div>"
      ],
      "text/plain": [
       "       Sales_before_digital_add(in $)  Sales_After_digital_add(in $)\n",
       "count                       22.000000                      22.000000\n",
       "mean                    149239.954545                  231123.727273\n",
       "std                      14844.042921                   25556.777061\n",
       "min                     130263.000000                  187305.000000\n",
       "25%                     138087.750000                  214960.750000\n",
       "50%                     147444.000000                  229986.500000\n",
       "75%                     157627.500000                  250909.000000\n",
       "max                     178939.000000                  276279.000000"
      ]
     },
     "execution_count": 3,
     "metadata": {},
     "output_type": "execute_result"
    }
   ],
   "source": [
    "dsSales = pd.read_csv('Sales_add.csv')\n",
    "dsSales.describe()"
   ]
  },
  {
   "cell_type": "code",
   "execution_count": null,
   "id": "0020e0f8",
   "metadata": {},
   "outputs": [],
   "source": [
    "● The company wishes to clarify whether there is any increase in sales after\n",
    "stepping into digital marketing.\n",
    "for this we are going to do a t_test\n",
    "H0: μ after = μ before (the mean sales is the same before and after stepping into digital marketing.)\n",
    "HA: μ after > μ before (the mean sales increased after stepping into digital marketing.)"
   ]
  },
  {
   "cell_type": "code",
   "execution_count": 21,
   "id": "cea6e1a0",
   "metadata": {},
   "outputs": [
    {
     "name": "stderr",
     "output_type": "stream",
     "text": [
      "/home/pratheek/anaconda3/lib/python3.8/site-packages/seaborn/distributions.py:2557: FutureWarning: `distplot` is a deprecated function and will be removed in a future version. Please adapt your code to use either `displot` (a figure-level function with similar flexibility) or `kdeplot` (an axes-level function for kernel density plots).\n",
      "  warnings.warn(msg, FutureWarning)\n"
     ]
    },
    {
     "data": {
      "image/png": "[encoded data removed]",
      "text/plain": [
       "<Figure size 792x648 with 1 Axes>"
      ]
     },
     "metadata": {
      "needs_background": "light"
     },
     "output_type": "display_data"
    }
   ],
   "source": [
    "plt.figure(figsize=(11, 9))\n",
    "sns.distplot(dsSales['Sales_After_digital_add(in $)']-dsSales['Sales_before_digital_add(in $)'], hist=False, color='darkgoldenrod')\n",
    "plt.title(\"Distribution of Differences in sales before and after advertisement\", y=1.01, fontsize=18)\n",
    "plt.xlabel(\"differences in sales\", labelpad=14)\n",
    "plt.ylabel(\"frequency of occurences\", labelpad=14);\n"
   ]
  },
  {
   "cell_type": "code",
   "execution_count": 7,
   "id": "ce304e44",
   "metadata": {},
   "outputs": [
    {
     "data": {
      "text/plain": [
       "Ttest_indResult(statistic=12.995084451110877, pvalue=2.614368006904645e-16)"
      ]
     },
     "execution_count": 7,
     "metadata": {},
     "output_type": "execute_result"
    }
   ],
   "source": [
    "stats.ttest_ind(dsSales['Sales_After_digital_add(in $)'], dsSales['Sales_before_digital_add(in $)'])"
   ]
  },
  {
   "cell_type": "code",
   "execution_count": null,
   "id": "3c669f85",
   "metadata": {},
   "outputs": [],
   "source": [
    "Since the tstat value is = +ve , there is an increase in sales after advertising. \n",
    "Since the pvalue is very small we can reject the null hypothesis that the means are equal"
   ]
  },
  {
   "cell_type": "markdown",
   "id": "e09e9b3b",
   "metadata": {},
   "source": [
    "# The company needs to check whether there is any dependency between the\n",
    "# features “Region” and “Manager”."
   ]
  },
  {
   "cell_type": "code",
   "execution_count": null,
   "id": "5be9bfd1",
   "metadata": {},
   "outputs": [],
   "source": [
    "To find out dependency we can use Chi-square test"
   ]
  },
  {
   "cell_type": "code",
   "execution_count": 17,
   "id": "670e6b6f",
   "metadata": {},
   "outputs": [
    {
     "name": "stdout",
     "output_type": "stream",
     "text": [
      "Chi2 Statistics : 3.050566893424036\n",
      "PValue : 0.5493991051158094\n"
     ]
    }
   ],
   "source": [
    "chirel = chi2_contingency(pd.crosstab(dsSales['Region'],dsSales['Manager']))\n",
    "print('Chi2 Statistics :', chirel[0])\n",
    "print ('PValue :',chirel[1])"
   ]
  },
  {
   "cell_type": "code",
   "execution_count": null,
   "id": "4df8a7d0",
   "metadata": {},
   "outputs": [],
   "source": [
    "Since the pValue is very high there is no dependency between the features 'Region' and 'Manager'"
   ]
  },
  {
   "cell_type": "code",
   "execution_count": null,
   "id": "47788c67",
   "metadata": {},
   "outputs": [],
   "source": []
  }
 ],
 "metadata": {
  "kernelspec": {
   "display_name": "Python 3",
   "language": "python",
   "name": "python3"
  },
  "language_info": {
   "codemirror_mode": {
    "name": "ipython",
    "version": 3
   },
   "file_extension": ".py",
   "mimetype": "text/x-python",
   "name": "python",
   "nbconvert_exporter": "python",
   "pygments_lexer": "ipython3",
   "version": "3.8.8"
  }
 },
 "nbformat": 4,
 "nbformat_minor": 5
}
