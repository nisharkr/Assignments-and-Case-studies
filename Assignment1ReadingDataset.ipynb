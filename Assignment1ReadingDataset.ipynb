{
 "cells": [
  {
   "cell_type": "markdown",
   "id": "2d655ff1",
   "metadata": {},
   "source": [
    "# 1. Reading the Iris Data"
   ]
  },
  {
   "cell_type": "code",
   "execution_count": 1,
   "id": "899d86c6",
   "metadata": {},
   "outputs": [
    {
     "data": {
      "text/html": [
       "<div>\n",
       "<style scoped>\n",
       "    .dataframe tbody tr th:only-of-type {\n",
       "        vertical-align: middle;\n",
       "    }\n",
       "\n",
       "    .dataframe tbody tr th {\n",
       "        vertical-align: top;\n",
       "    }\n",
       "\n",
       "    .dataframe thead th {\n",
       "        text-align: right;\n",
       "    }\n",
       "</style>\n",
       "<table border=\"1\" class=\"dataframe\">\n",
       "  <thead>\n",
       "    <tr style=\"text-align: right;\">\n",
       "      <th></th>\n",
       "      <th>SL</th>\n",
       "      <th>SW</th>\n",
       "      <th>PL</th>\n",
       "      <th>PW</th>\n",
       "      <th>Classification</th>\n",
       "    </tr>\n",
       "  </thead>\n",
       "  <tbody>\n",
       "    <tr>\n",
       "      <th>0</th>\n",
       "      <td>5.1</td>\n",
       "      <td>3.5</td>\n",
       "      <td>1.4</td>\n",
       "      <td>0.2</td>\n",
       "      <td>Iris-setosa</td>\n",
       "    </tr>\n",
       "    <tr>\n",
       "      <th>1</th>\n",
       "      <td>4.9</td>\n",
       "      <td>3.0</td>\n",
       "      <td>1.4</td>\n",
       "      <td>0.2</td>\n",
       "      <td>Iris-setosa</td>\n",
       "    </tr>\n",
       "    <tr>\n",
       "      <th>2</th>\n",
       "      <td>4.7</td>\n",
       "      <td>3.2</td>\n",
       "      <td>1.3</td>\n",
       "      <td>0.2</td>\n",
       "      <td>Iris-setosa</td>\n",
       "    </tr>\n",
       "    <tr>\n",
       "      <th>3</th>\n",
       "      <td>4.6</td>\n",
       "      <td>3.1</td>\n",
       "      <td>1.5</td>\n",
       "      <td>0.2</td>\n",
       "      <td>Iris-setosa</td>\n",
       "    </tr>\n",
       "    <tr>\n",
       "      <th>4</th>\n",
       "      <td>5.0</td>\n",
       "      <td>3.6</td>\n",
       "      <td>1.4</td>\n",
       "      <td>0.2</td>\n",
       "      <td>Iris-setosa</td>\n",
       "    </tr>\n",
       "  </tbody>\n",
       "</table>\n",
       "</div>"
      ],
      "text/plain": [
       "    SL   SW   PL   PW Classification\n",
       "0  5.1  3.5  1.4  0.2    Iris-setosa\n",
       "1  4.9  3.0  1.4  0.2    Iris-setosa\n",
       "2  4.7  3.2  1.3  0.2    Iris-setosa\n",
       "3  4.6  3.1  1.5  0.2    Iris-setosa\n",
       "4  5.0  3.6  1.4  0.2    Iris-setosa"
      ]
     },
     "execution_count": 1,
     "metadata": {},
     "output_type": "execute_result"
    }
   ],
   "source": [
    "import numpy as np\n",
    "import pandas as pd\n",
    "import matplotlib.pyplot as plt\n",
    "import seaborn as sns\n",
    "iris_data = pd.read_csv('iris.csv')\n",
    "iris_data.head()"
   ]
  },
  {
   "cell_type": "markdown",
   "id": "82fae850",
   "metadata": {},
   "source": [
    "# 2 . Displaying Columns of the dataset"
   ]
  },
  {
   "cell_type": "code",
   "execution_count": 2,
   "id": "301604f4",
   "metadata": {},
   "outputs": [
    {
     "name": "stdout",
     "output_type": "stream",
     "text": [
      "Columns in the Iris Data are\n",
      "--------------------------------------------------\n",
      "SL\n",
      "SW\n",
      "PL\n",
      "PW\n",
      "Classification\n"
     ]
    }
   ],
   "source": [
    "print ('Columns in the Iris Data are')\n",
    "print ('-'*50)\n",
    "for i in iris_data.columns:\n",
    "   # print(i,type(iris_data[i]))\n",
    "    print(i)"
   ]
  },
  {
   "cell_type": "markdown",
   "id": "0da6b423",
   "metadata": {},
   "source": [
    "# 3.Mean of each column of the Iris dataset"
   ]
  },
  {
   "cell_type": "code",
   "execution_count": 3,
   "id": "7cd7e0cc",
   "metadata": {},
   "outputs": [
    {
     "name": "stdout",
     "output_type": "stream",
     "text": [
      "Column       Mean\n",
      "--------------------------------------------------\n",
      "SL       5.84\n",
      "SW       3.05\n",
      "PL       3.76\n",
      "PW       1.2\n"
     ]
    }
   ],
   "source": [
    "print('Column',\" \"*5,'Mean')\n",
    "print ('-'*50)\n",
    "for i in iris_data.columns:   \n",
    "    if (iris_data[i].dtypes == np.float64):\n",
    "        print(iris_data[i].name,\" \"*5, round(iris_data[i].mean(),2))"
   ]
  },
  {
   "cell_type": "markdown",
   "id": "0563512f",
   "metadata": {},
   "source": [
    "# 4.Checking null Data"
   ]
  },
  {
   "cell_type": "code",
   "execution_count": 4,
   "id": "ea1cb37a",
   "metadata": {},
   "outputs": [
    {
     "name": "stdout",
     "output_type": "stream",
     "text": [
      "<class 'pandas.core.frame.DataFrame'>\n",
      "RangeIndex: 150 entries, 0 to 149\n",
      "Data columns (total 5 columns):\n",
      " #   Column          Non-Null Count  Dtype  \n",
      "---  ------          --------------  -----  \n",
      " 0   SL              150 non-null    float64\n",
      " 1   SW              150 non-null    float64\n",
      " 2   PL              150 non-null    float64\n",
      " 3   PW              150 non-null    float64\n",
      " 4   Classification  150 non-null    object \n",
      "dtypes: float64(4), object(1)\n",
      "memory usage: 6.0+ KB\n"
     ]
    }
   ],
   "source": [
    "#iris_data [iris_data.isnull().any(axis=1)]\n",
    "iris_data.info()"
   ]
  },
  {
   "cell_type": "markdown",
   "id": "0e6a28ce",
   "metadata": {},
   "source": [
    "# 5.Visualizations of the Iris data"
   ]
  },
  {
   "cell_type": "markdown",
   "id": "527a508c",
   "metadata": {},
   "source": [
    "# a. Bar Graph"
   ]
  },
  {
   "cell_type": "code",
   "execution_count": 3,
   "id": "a139f06b",
   "metadata": {},
   "outputs": [
    {
     "data": {
      "text/plain": [
       "Text(0, 0.5, 'Count')"
      ]
     },
     "execution_count": 3,
     "metadata": {},
     "output_type": "execute_result"
    },
    {
     "data": {
      "image/png": "[encoded data removed]",
      "text/plain": [
       "<Figure size 720x360 with 1 Axes>"
      ]
     },
     "metadata": {
      "needs_background": "light"
     },
     "output_type": "display_data"
    }
   ],
   "source": [
    "plt.figure(figsize=(10,5))\n",
    "filteredData = iris_data[iris_data['Classification'] ==  \"Iris-setosa\"]\n",
    "dt = filteredData['SL']\n",
    "plt.title('Sepal Length of Iris-setosa')\n",
    "plt.hist(dt, bins = 50, color = \"red\")\n",
    "\n",
    "plt.xlabel(\"Sepal_Length\")\n",
    "plt.ylabel(\"Count\")\n"
   ]
  },
  {
   "cell_type": "markdown",
   "id": "3ed94a7d",
   "metadata": {},
   "source": [
    "#     b. Scatter plot"
   ]
  },
  {
   "cell_type": "code",
   "execution_count": 4,
   "id": "2f5379e1",
   "metadata": {},
   "outputs": [
    {
     "data": {
      "text/plain": [
       "<seaborn.axisgrid.FacetGrid at 0x7f32cd81ca30>"
      ]
     },
     "execution_count": 4,
     "metadata": {},
     "output_type": "execute_result"
    },
    {
     "data": {
      "image/png": "[encoded data removed]",
      "text/plain": [
       "<Figure size 823.25x720 with 1 Axes>"
      ]
     },
     "metadata": {},
     "output_type": "display_data"
    }
   ],
   "source": [
    "sns.set_style(\"whitegrid\")\n",
    "sns.FacetGrid(iris_data, hue =\"Classification\",\n",
    "              height = 10).map(plt.scatter,\n",
    "                              'SL',\n",
    "                              'PL').add_legend()"
   ]
  },
  {
   "cell_type": "markdown",
   "id": "27a9c528",
   "metadata": {},
   "source": [
    "# c.Boxplot"
   ]
  },
  {
   "cell_type": "code",
   "execution_count": 5,
   "id": "a3679174",
   "metadata": {},
   "outputs": [
    {
     "data": {
      "text/plain": [
       "<AxesSubplot:>"
      ]
     },
     "execution_count": 5,
     "metadata": {},
     "output_type": "execute_result"
    },
    {
     "data": {
      "image/png": "[encoded data removed]",
      "text/plain": [
       "<Figure size 432x288 with 1 Axes>"
      ]
     },
     "metadata": {},
     "output_type": "display_data"
    }
   ],
   "source": [
    "fdata = filteredData[[\"SL\", \"SW\", \"PL\", \"PW\"]]\n",
    "fdata.boxplot()"
   ]
  },
  {
   "cell_type": "code",
   "execution_count": null,
   "id": "0595c84d",
   "metadata": {},
   "outputs": [],
   "source": []
  }
 ],
 "metadata": {
  "kernelspec": {
   "display_name": "Python 3",
   "language": "python",
   "name": "python3"
  },
  "language_info": {
   "codemirror_mode": {
    "name": "ipython",
    "version": 3
   },
   "file_extension": ".py",
   "mimetype": "text/x-python",
   "name": "python",
   "nbconvert_exporter": "python",
   "pygments_lexer": "ipython3",
   "version": "3.8.8"
  }
 },
 "nbformat": 4,
 "nbformat_minor": 5
}
